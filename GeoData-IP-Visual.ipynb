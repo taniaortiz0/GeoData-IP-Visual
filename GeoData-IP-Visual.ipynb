{
 "cells": [
  {
   "cell_type": "code",
   "execution_count": null,
   "id": "df623107-8fc3-4481-a651-a012e433c31f",
   "metadata": {},
   "outputs": [],
   "source": [
    "import xarray as xr\n",
    "import matplotlib.pyplot as plt\n",
    "import numpy as np\n",
    "import netCDF4 as nc\n",
    "file_path = r\"C:\\your file_path .nc”\n",
    "ds = xr.open_dataset(file_path)\n",
    "# Extract data from the dataset\n",
    "lat_data = ds['lat'].values\n",
    "lon_data = ds['lon'].values\n",
    "altitude_data = ds['altitude'].values\n",
    "amplitude_high_gain_data = ds['amplitude_high_gain'].values\n",
    "amplitude_low_gain_data = ds['amplitude_low_gain'].values\n",
    "time_data = ds['time'].values\n",
    "# Transpose the data\n",
    "amplitude_low_gain_data = np.transpose(amplitude_low_gain_data)\n",
    "amplitude_high_gain_data = np.transpose(amplitude_high_gain_data)\n",
    "# Create subplots to display multiple radar stratigraphy variables\n",
    "fig, axes = plt.subplots(nrows=1, ncols=2, figsize=(12, 6))\n",
    "# Plot first variable\n",
    "im1 = axes[0].imshow(amplitude_low_gain_data, cmap='gray', aspect='auto')\n",
    "axes[0].set_title('Amplitude Low Gain')\n",
    "fig.colorbar(im1, ax=axes[0])  # Associate colorbar with the first image\n",
    "# Plot second variable\n",
    "im2 = axes[1].imshow(amplitude_high_gain_data, cmap='gray', aspect='auto')\n",
    "axes[1].set_title('Amplitude High Gain')\n",
    "fig.colorbar(im2, ax=axes[1])  # Associate colorbar with the second image\n",
    "# Display the plot\n",
    "plt.tight_layout()  # Ensures proper spacing between subplots\n",
    "# Extract and format the time, latitude, longitude, and altitude information\n",
    "time_str = f\"Time: {time_data}\"\n",
    "lat_str = f\"Latitude: {lat_data}\"\n",
    "lon_str = f\"Longitude: {lon_data}\"\n",
    "altitude_str = f\"Altitude: {altitude_data}\"\n",
    "# Position the information outside the plot area using figtext\n",
    "plt.figtext(0.70, 0.98, time_str, fontsize=8, va='center')       # Move time information down\n",
    "plt.figtext(0.35, 0.95, lat_str, fontsize=8, va='center')    # Move latitude information down\n",
    "plt.figtext(0.35, 0.99, lon_str, fontsize=8, va='center')    # Move longitude information down\n",
    "plt.figtext(0.33, 0.02, altitude_str, fontsize=8, va='bottom')\n",
    "# Display the plot\n",
    "plt.show()"
   ]
  }
 ],
 "metadata": {
  "kernelspec": {
   "display_name": "Python [conda env:base] *",
   "language": "python",
   "name": "conda-base-py"
  },
  "language_info": {
   "codemirror_mode": {
    "name": "ipython",
    "version": 3
   },
   "file_extension": ".py",
   "mimetype": "text/x-python",
   "name": "python",
   "nbconvert_exporter": "python",
   "pygments_lexer": "ipython3",
   "version": "3.12.7"
  }
 },
 "nbformat": 4,
 "nbformat_minor": 5
}
